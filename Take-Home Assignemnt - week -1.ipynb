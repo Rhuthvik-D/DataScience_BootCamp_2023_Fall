{
 "cells": [
  {
   "cell_type": "markdown",
   "metadata": {},
   "source": [
    "1. Display Fibonacci Series upto 10 terms"
   ]
  },
  {
   "cell_type": "code",
   "execution_count": 1,
   "metadata": {},
   "outputs": [
    {
     "name": "stdout",
     "output_type": "stream",
     "text": [
      "1 1 2 3 5 8 13 21 34 55 "
     ]
    }
   ],
   "source": [
    "a = 0\n",
    "b = 1\n",
    "i = 1\n",
    "new = b\n",
    "\n",
    "while i < 11:\n",
    "    print(b, end=\" \")\n",
    "    i += 1\n",
    "    a, b = b, new\n",
    "    new = a + b\n",
    "# print()"
   ]
  },
  {
   "cell_type": "markdown",
   "metadata": {},
   "source": [
    "2. Display numbers at the odd indices of a list"
   ]
  },
  {
   "cell_type": "code",
   "execution_count": 2,
   "metadata": {},
   "outputs": [
    {
     "name": "stdout",
     "output_type": "stream",
     "text": [
      "44\n",
      "56\n",
      "88\n"
     ]
    }
   ],
   "source": [
    "list1 = [22, 44, 55, 56, 7, 88, 52]\n",
    "\n",
    "for i in range (len(list1)):\n",
    "    if i % 2 == 1:\n",
    "        print(list1[i])"
   ]
  },
  {
   "cell_type": "markdown",
   "metadata": {},
   "source": [
    "3. Print a list in reverse order"
   ]
  },
  {
   "cell_type": "code",
   "execution_count": 3,
   "metadata": {},
   "outputs": [
    {
     "name": "stdout",
     "output_type": "stream",
     "text": [
      "[52, 88, 7, 56, 55, 44, 22]\n"
     ]
    }
   ],
   "source": [
    "rev_lst = []\n",
    "for i in list1:\n",
    "    rev_lst.insert(0, i)\n",
    "print(rev_lst)"
   ]
  },
  {
   "cell_type": "markdown",
   "metadata": {},
   "source": [
    "4. Your task is to count the number of different words in this text"
   ]
  },
  {
   "cell_type": "code",
   "execution_count": 4,
   "metadata": {},
   "outputs": [
    {
     "name": "stdout",
     "output_type": "stream",
     "text": [
      "Total words in the string are 62\n"
     ]
    }
   ],
   "source": [
    "string = \"\"\"\n",
    "\tChatGPT has created this text to provide tips on creating interesting paragraphs. \n",
    "\tFirst, start with a clear topic sentence that introduces the main idea. \n",
    "\tThen, support the topic sentence with specific details, examples, and evidence.\n",
    "\tVary the sentence length and structure to keep the reader engaged.\n",
    "\tFinally, end with a strong concluding sentence that summarizes the main points.\n",
    "\tRemember, practice makes perfect!\n",
    "\t\"\"\"\n",
    "print(\"Total words in the string are\", len(string.split()))"
   ]
  },
  {
   "cell_type": "code",
   "execution_count": 5,
   "metadata": {},
   "outputs": [
    {
     "name": "stdout",
     "output_type": "stream",
     "text": [
      "Unique words are 37\n"
     ]
    }
   ],
   "source": [
    "unique_words = set(string)\n",
    "print(\"Unique words are\", len(unique_words))"
   ]
  },
  {
   "cell_type": "markdown",
   "metadata": {},
   "source": [
    "5. Write a function that takes a word as an argument and returns the number of vowels in the word"
   ]
  },
  {
   "cell_type": "code",
   "execution_count": 2,
   "metadata": {},
   "outputs": [
    {
     "name": "stdout",
     "output_type": "stream",
     "text": [
      "Count of vowels in 'procrastinaotr' is: 5\n"
     ]
    }
   ],
   "source": [
    "def countVowels(mystring):\n",
    "    vowelletters = [\"a\", \"e\", \"i\", \"o\", \"u\"]\n",
    "    sum1 = sum(mystring.lower().count(v) for v in vowelletters)\n",
    "    return sum1\n",
    "\n",
    "word = input('Enter your word to get the count of vowels: ')\n",
    "result = countVowels(word)\n",
    "print(f\"Count of vowels in '{word}' is: {result}\")"
   ]
  },
  {
   "cell_type": "markdown",
   "metadata": {},
   "source": [
    "6.  Iterate through the following list of animals and print each one in all caps.\n",
    "\n",
    "  animals=['tiger', 'elephant', 'monkey', 'zebra', 'panther']"
   ]
  },
  {
   "cell_type": "code",
   "execution_count": 3,
   "metadata": {},
   "outputs": [
    {
     "name": "stdout",
     "output_type": "stream",
     "text": [
      "TIGER\n",
      "ELEPHANT\n",
      "MOUSE\n",
      "GIRAFFE\n",
      "CAT\n"
     ]
    }
   ],
   "source": [
    "animals=['tiger', 'elephant', 'mouse', 'giraffe', 'cat']\n",
    "\n",
    "lst = [x.upper() for x in animals]\n",
    "\n",
    "for ani in lst:\n",
    "    print(ani)"
   ]
  },
  {
   "cell_type": "markdown",
   "metadata": {},
   "source": [
    "7. Iterate from 1 to 15, printing whether the number is odd or even\n"
   ]
  },
  {
   "cell_type": "code",
   "execution_count": 11,
   "metadata": {},
   "outputs": [
    {
     "name": "stdout",
     "output_type": "stream",
     "text": [
      "1 is odd\n",
      "2 is even\n",
      "3 is odd\n",
      "4 is even\n",
      "5 is odd\n",
      "6 is even\n",
      "7 is odd\n",
      "8 is even\n",
      "9 is odd\n",
      "10 is even\n",
      "11 is odd\n",
      "12 is even\n",
      "13 is odd\n",
      "14 is even\n",
      "15 is odd\n"
     ]
    }
   ],
   "source": [
    "for i in range(1,16):\n",
    "    if (i % 2==0):\n",
    "        print(i, \"is even\")\n",
    "    else:\n",
    "        print(i,\"is odd\")"
   ]
  },
  {
   "cell_type": "markdown",
   "metadata": {},
   "source": [
    "8. Take two integers as input from user and return the sum"
   ]
  },
  {
   "cell_type": "code",
   "execution_count": 1,
   "metadata": {},
   "outputs": [
    {
     "name": "stdout",
     "output_type": "stream",
     "text": [
      "4 + 7 = 11\n"
     ]
    }
   ],
   "source": [
    "num1= int(input(\"Enter the first number: \"))\n",
    "num2= int(input(\"Enter the second number: \"))\n",
    "\n",
    "sum=num1+num2\n",
    "\n",
    "print(num1 ,\"+\",num2,\"=\",sum)"
   ]
  },
  {
   "cell_type": "code",
   "execution_count": null,
   "metadata": {},
   "outputs": [],
   "source": []
  }
 ],
 "metadata": {
  "kernelspec": {
   "display_name": "base",
   "language": "python",
   "name": "python3"
  },
  "language_info": {
   "codemirror_mode": {
    "name": "ipython",
    "version": 3
   },
   "file_extension": ".py",
   "mimetype": "text/x-python",
   "name": "python",
   "nbconvert_exporter": "python",
   "pygments_lexer": "ipython3",
   "version": "3.11.4"
  }
 },
 "nbformat": 4,
 "nbformat_minor": 2
}
